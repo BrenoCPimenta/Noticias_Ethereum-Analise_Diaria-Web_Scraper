{
 "cells": [
  {
   "cell_type": "markdown",
   "metadata": {},
   "source": [
    "<img src=\"Imgs/Img-001.png\" alt=\"Drawing\" style=\"width:250px;\"/>"
   ]
  },
  {
   "cell_type": "markdown",
   "metadata": {},
   "source": [
    "# Notícias Ethereum - Análize Diária   (Web Scraper)"
   ]
  },
  {
   "cell_type": "markdown",
   "metadata": {},
   "source": [
    "### Objetivo:\n",
    "Investidores diariamente acompanham notícias de crypto moedas como parâmetro para formulação de estratégias e tomadas de decisão.<br>\n",
    "No entanto existem investidores com portifólios muito variados e não possuem tempo para analizar a situação de cada ativo diariamente e precisão de um feedback rápido, ou simplesmente está em um dia mais corrido em que não se consegue ter tempo para realizar uma análize mais completa. Com isso dito esse projeto objetiva criar um \"temômetro\" dos acontecimentos diário para uma moeda crypto moeda específica.\n",
    "\n",
    "### Por que Ethereum?\n",
    "Ethereum é segundo a [forbes](https://www.forbes.com/sites/bernardmarr/2018/02/02/blockchain-a-very-short-history-of-ethereum-everyone-should-read/#496c3f7e1e89) um dos melhores investimentos em crypto moedas da atualidade e que deve ultrapassar o bitcoin em pouco tempo. No entanto o Bitcoin ainda é (em 24/08/2019) o líder do mercado e a maior parte das notícias são voltadas para o mesmo. Então investidores normalmente acessam dezenas de notícias diárias de bitcoin, que é uma base para toda a cryptocurrency, porém quando necessitam de informação sobre Ethereum, precisam buscar em lugares diferentes, criando assim um segundo gasto de tempo. Logo com esse projeto, quando houver uma necessidade de um parâmetro básico para uma análise diária rápida da tendência do moeda, basta executar este web scraper. \n"
   ]
  },
  {
   "cell_type": "markdown",
   "metadata": {},
   "source": [
    "---\n",
    "## Analisando Sites de Busca"
   ]
  },
  {
   "cell_type": "markdown",
   "metadata": {},
   "source": [
    "Cada site de notícia possui padrão de disposição de informação diferente, logo cada análise será realizada de forma diferente. No entanto será criado uma função para a abertura e leitura dos sites que será praticamente igual para todos, as variações serão controladas dentro dos parâmetros:"
   ]
  },
  {
   "cell_type": "code",
   "execution_count": 1,
   "metadata": {},
   "outputs": [],
   "source": [
    "import pandas as pd\n",
    "import numpy as np\n",
    "import datetime as dt\n",
    "import matplotlib.pyplot as plt\n",
    "%matplotlib inline\n",
    "\n",
    "from urllib.request import Request,urlopen\n",
    "from bs4 import BeautifulSoup"
   ]
  },
  {
   "cell_type": "code",
   "execution_count": 2,
   "metadata": {},
   "outputs": [],
   "source": [
    "hoje = dt.date.today().day"
   ]
  },
  {
   "cell_type": "code",
   "execution_count": 3,
   "metadata": {},
   "outputs": [
    {
     "name": "stdout",
     "output_type": "stream",
     "text": [
      "As moedas digitais estão se popularizando, mas os bancos ainda dão as cartas\n"
     ]
    }
   ],
   "source": [
    "variacao = 0\n",
    "def buscando_html(news_url, variacao):\n",
    "    if variacao == 1:\n",
    "        html_page = urlopen(news_url)\n",
    "        return BeautifulSoup(html_page, 'lxml')\n",
    "    if variacao == 2:\n",
    "        hdr = {'User-Agent': 'Mozilla/5.0'} \n",
    "        req = Request(news_url,headers=hdr)\n",
    "        html_page = urlopen(req)\n",
    "        return BeautifulSoup(html_page, 'lxml')\n",
    "        \n",
    "\n",
    "'''\n",
    "Var3:\n",
    "import requests\n",
    "hdr = {'User-Agent': 'Mozilla/5.0'}  \n",
    "req = requests.get(news_url ,headers=hdr)\n",
    "return BeautifulSoup(req.text, 'html.parser')\n",
    "'''\n",
    "#Teste:\n",
    "print(buscando_html(\"https://www.infomoney.com.br/cryptos/ethereum/pagina/1\", 1).findAll(\"a\", {\"class\":\"title-box title-box-medium\"})[0].contents[0])"
   ]
  },
  {
   "cell_type": "markdown",
   "metadata": {},
   "source": [
    "#### Padrões dos Sites:\n",
    "Analizando sites de notícias percebe-se dois padrões:\n",
    "* Sites com **uma ou nenhuma notícia diária**, esses sites são focados em notícias mais impactantes. Exemplo: [infomoney](https://www.infomoney.com.br/cryptos/ethereum/pagina/1) <br><br>\n",
    "* Sites com **várias notícias diárias**, esses sites cobrem uma grande variedade de acontecimentos, que podem influenciar pouco ou muito na moeda. Exemplo: [independent-en](https://www.independent.co.uk/topic/ethereum)\n",
    "\n",
    "\n"
   ]
  },
  {
   "cell_type": "markdown",
   "metadata": {},
   "source": [
    "Portanto dividiremos os sites em dois grupos, sendo que cada grupo terá um peso diferente em sua notícia:\n",
    "* **Grupo 01:** Notícias menos impactantes Peso vezes 1.\n",
    "* **Grupo 02:** Notícias mais impactantes Peso vezes 2."
   ]
  },
  {
   "cell_type": "markdown",
   "metadata": {},
   "source": [
    "#### Grupo 01:\n",
    "* [independent-en](https://www.independent.co.uk/topic/ethereum)\n",
    "* [investing-en](https://investing.com/crypto/ethereum/news)\n",
    "\n",
    "    \n",
    "    \n",
    "#### Grupo 02:\n",
    "* [infomoney-br](https://www.infomoney.com.br/cryptos/ethereum/pagina/1)\n",
    "* [guia do bitcoin-pt](https://guiadobitcoin.com.br/categoria/altcoins/ethereum-eth/)\n",
    "* [webitcoin-pt](https://webitcoin.com.br/?s=ethereum)\n",
    "* [google-noticias-pt](https://www.google.com/search?q=noticias+ethereum&source=lnms&tbm=nws&sa=X&ved=0ahUKEwikrtfrrZzkAhXyH7kGHbSUCoMQ_AUIESgB&biw=1242&bih=553)\n",
    "\n",
    "    \n"
   ]
  },
  {
   "cell_type": "markdown",
   "metadata": {},
   "source": [
    "#### Palavras Chaves:\n",
    "Para analisar se uma notícia é positiva ou negativa serão adotadas palavras chaves, caso a notícia contenha alguma delas, determinará se a pontuação será positiva ou negativa.\n",
    "**Você pode modificar as palavras conforme a sua necessidade, só tenha em mente que é importante ter uma quantidade balanceada de palavras negativas e positivas, caso contrário será gerado uma tendência.**"
   ]
  },
  {
   "cell_type": "code",
   "execution_count": 4,
   "metadata": {},
   "outputs": [],
   "source": [
    "palavras_negativas_pt = [\"crise\", \"proib\", \"afeta\", \"cai\", \"desaba\", \"bloquead\", \"quebra\", \"baixa\", \"polemica\", \"advert\", \"medo\", \"caos\", \"terrorista\"]\n",
    "palavras_positivas_pt = [\"dispara\", \"supera\", \"valoriza\", \"invest\", \"promete\", \"lança\", \"nov\", \"subi\", \"popular\", \"avança\", \"alta\"]\n",
    "\n",
    "palavras_negativas_en = [\"low\", \"leav\", \"fall\", \"down\", \"lock\", \"drop\", \"dump\"]\n",
    "palavras_positivas_en = [\"high\", \"join\", \"rise\", \"up\", \"release\", \"surge\"]"
   ]
  },
  {
   "cell_type": "markdown",
   "metadata": {},
   "source": [
    "A análise das notícias com as palavras chaves também possuem um padrão, com apenas duas diferenças: \n",
    "1. Se o site está contido no grupo 1 ou no grupo 2.\n",
    "2. Se o site está em português ou inglês.\n",
    "\n",
    "\n",
    "Logo será criado uma função para lidar com isso:"
   ]
  },
  {
   "cell_type": "code",
   "execution_count": 5,
   "metadata": {},
   "outputs": [],
   "source": [
    "pontuacao = 0\n",
    "grupo = 0\n",
    "#Parâmetros:\n",
    "# noticias, sera a lista de strings que representa as noticias de um site\n",
    "# grupo, sera um inteiro que é o valor que deve ser somado ao balanço final\n",
    "def pontuacao_do_site(noticias, grupo, lingua):\n",
    "    global pontuacao\n",
    "    if lingua == \"pt\":\n",
    "        for frase in noticias:\n",
    "            for palavra in palavras_negativas_pt:\n",
    "                if(palavra in frase):\n",
    "                    pontuacao -= grupo\n",
    "            for palavra in palavras_positivas_pt:\n",
    "                if(palavra in frase):\n",
    "                    pontuacao += grupo\n",
    "    if lingua == \"en\":\n",
    "        for frase in noticias:\n",
    "            for palavra in palavras_negativas_en:\n",
    "                if(palavra in frase):\n",
    "                    pontuacao -= grupo\n",
    "            for palavra in palavras_positivas_en:\n",
    "                if(palavra in frase):\n",
    "                    pontuacao += grupo\n",
    "                "
   ]
  },
  {
   "cell_type": "markdown",
   "metadata": {},
   "source": [
    "---\n",
    "\n",
    "## Realizando Buscas"
   ]
  },
  {
   "cell_type": "code",
   "execution_count": 6,
   "metadata": {},
   "outputs": [],
   "source": [
    "pontos_por_site = []\n",
    "sites = []"
   ]
  },
  {
   "cell_type": "markdown",
   "metadata": {},
   "source": [
    "### Grupo 01"
   ]
  },
  {
   "cell_type": "markdown",
   "metadata": {},
   "source": [
    "* [independent-en](https://www.independent.co.uk/topic/ethereum)"
   ]
  },
  {
   "cell_type": "code",
   "execution_count": 7,
   "metadata": {},
   "outputs": [],
   "source": [
    "url = \"https://www.independent.co.uk/topic/ethereum?CMP=ILC-refresh\"\n",
    "soup_html = buscando_html(url,2)\n",
    "\n",
    "aux = pontuacao\n",
    "# O site independent não possui data direta nas noticias, mas possui um feed superior que é mudado diariamente,\n",
    "# então será usado apenas as notícias desse feed.\n",
    "noticias = soup_html.findAll(\"h2\")\n",
    "for index in range(len(noticias)):\n",
    "    noticias[index] = noticias[index].contents[0].lower()\n",
    "pontuacao_do_site(noticias, 1, \"en\")\n",
    "\n",
    "sites.append(\"independent\")\n",
    "pontos_por_site.append(pontuacao - aux)"
   ]
  },
  {
   "cell_type": "markdown",
   "metadata": {},
   "source": [
    "<br><br>\n",
    "* [investing-en](https://investing.com/crypto/ethereum/news)"
   ]
  },
  {
   "cell_type": "code",
   "execution_count": 8,
   "metadata": {},
   "outputs": [],
   "source": [
    "aux = pontuacao\n",
    "url = \"https://investing.com/crypto/ethereum/news/\"\n",
    "soup_html = buscando_html(url,2)\n",
    "noticias_hoje = []\n",
    "#print(\"algo; \",soup_html)\n",
    "\n",
    "#Neste site em particular as noticias das ultimas 24hrs sao dadas em horas\n",
    "#1. verificamos quantas noticias sao atuais:\n",
    "datas = soup_html.findAll(\"span\", {\"class\":\"date\"})\n",
    "\n",
    "qtd_noticias = 0\n",
    "for data in datas:\n",
    "    data = ''.join(data)\n",
    "    if \"hours\" in data:\n",
    "        global qtd_noticias\n",
    "        qtd_noticias += 1\n",
    "        \n",
    "#2. Se houver noticias de hoje:\n",
    "if qtd_noticias != 0:\n",
    "    global noticias_hoje\n",
    "    noticias_hoje = soup_html.findAll(\"a\", {\"class\":\"title\"})[:qtd_noticias]\n",
    "    for index in range(qtd_noticias):\n",
    "        noticias_hoje[index] = noticias_hoje[index].contents[0].lower()\n",
    "    pontuacao_do_site(noticias_hoje, 1, \"en\")\n",
    "    \n",
    "sites.append(\"investing\")\n",
    "pontos_por_site.append(pontuacao - aux)"
   ]
  },
  {
   "cell_type": "markdown",
   "metadata": {},
   "source": [
    "### Grupo 02"
   ]
  },
  {
   "cell_type": "markdown",
   "metadata": {},
   "source": [
    "* [infomoney-br](https://www.infomoney.com.br/cryptos/ethereum/pagina/1)"
   ]
  },
  {
   "cell_type": "code",
   "execution_count": 9,
   "metadata": {},
   "outputs": [],
   "source": [
    "aux = pontuacao\n",
    "url = \"https://www.infomoney.com.br/cryptos/ethereum/pagina/1\"\n",
    "soup_html = buscando_html(url,1)\n",
    "\n",
    "#Verificando se a ultima noticia eh atual\n",
    "dia_ultima_noticia = soup_html.findAll(\"div\", {\"class\":\"info-box info-box-medium\"})[0].div.contents[2][1:3]\n",
    "dia_ultima_noticia = int(dia_ultima_noticia)\n",
    "\n",
    "if hoje == dia_ultima_noticia:\n",
    "    noticia = soup_html.findAll(\"a\", {\"class\":\"title-box title-box-medium\"})[0].contents[0].lower()\n",
    "    noticias = []\n",
    "    noticias.append(noticia)\n",
    "    pontuacao_do_site(noticias, 2, \"pt\")\n",
    "    \n",
    "sites.append(\"infomoney\")\n",
    "pontos_por_site.append(pontuacao - aux)"
   ]
  },
  {
   "cell_type": "markdown",
   "metadata": {},
   "source": [
    "<br><br>\n",
    "* [guia do bitcoin-pt](https://guiadobitcoin.com.br/categoria/altcoins/ethereum-eth/)"
   ]
  },
  {
   "cell_type": "code",
   "execution_count": 10,
   "metadata": {},
   "outputs": [],
   "source": [
    "aux = pontuacao\n",
    "url = \"https://guiadobitcoin.com.br/categoria/altcoins/ethereum-eth/\"\n",
    "soup_html = buscando_html(url,2)\n",
    "\n",
    "#Verificando a data\n",
    "#No caso do guiabitcoin, quando ha noticia, eh apenas uma por dia, logo soh precisamos verificar a data da primeira\n",
    "data_ultima_noticia = soup_html.findAll(\"span\", {\"class\":\"post-author\"})[1].contents[0][-8:-6]\n",
    "\n",
    "if hoje == int(data_ultima_noticia):\n",
    "    noticia = soup_html.findAll(\"p\")[0].contents[0].lower()\n",
    "    noticias = []\n",
    "    noticias.append(noticia)\n",
    "    pontuacao_do_site(noticias, 2, \"pt\")\n",
    "    \n",
    "sites.append(\"guia_do_bitcoin\")\n",
    "pontos_por_site.append(pontuacao - aux)"
   ]
  },
  {
   "cell_type": "markdown",
   "metadata": {},
   "source": [
    "<br><br>\n",
    "* [webitcoin](https://webitcoin.com.br/?s=ethereum)"
   ]
  },
  {
   "cell_type": "code",
   "execution_count": 11,
   "metadata": {},
   "outputs": [],
   "source": [
    "aux = pontuacao\n",
    "url = \"https://webitcoin.com.br/?s=ethereum\"\n",
    "soup_html = buscando_html(url,1)\n",
    "\n",
    "#A webitcoin tambem solta apenas uma noticia por dia\n",
    "noticia = soup_html.findAll(\"h3\")[1].contents[0].lower()\n",
    "noticias = []\n",
    "noticias.append(noticia)\n",
    "pontuacao_do_site(noticias, 2, \"pt\")\n",
    "\n",
    "sites.append(\"webitcoin\")\n",
    "pontos_por_site.append(pontuacao - aux)"
   ]
  },
  {
   "cell_type": "markdown",
   "metadata": {},
   "source": [
    "<br><br>\n",
    "* [google-noticias-pt](https://www.google.com/search?q=noticias+ethereum&source=lnms&tbm=nws&sa=X&ved=0ahUKEwikrtfrrZzkAhXyH7kGHbSUCoMQ_AUIESgB&biw=1242&bih=553)"
   ]
  },
  {
   "cell_type": "code",
   "execution_count": 12,
   "metadata": {},
   "outputs": [],
   "source": [
    "aux = pontuacao\n",
    "url = \"https://www.google.com/search?q=noticias+ethereum&source=lnms&tbm=nws&sa=X&ved=0ahUKEwikrtfrrZzkAhXyH7kGHbSUCoMQ_AUIESgB&biw=1242&bih=553\"\n",
    "soup_html = buscando_html(url,2)\n",
    "\n",
    "#No caso do google, ele fornece uma noticia principal todo dia e esta que sera usada:\n",
    "todas_noticias = soup_html.findAll(\"a\")\n",
    "noticia = str(todas_noticias[39].contents[1])\n",
    "noticias = []\n",
    "noticias.append(noticia)\n",
    "pontuacao_do_site(noticias, 2, \"pt\")\n",
    "\n",
    "sites.append(\"google-noticias-br\")\n",
    "pontos_por_site.append(pontuacao - aux)"
   ]
  },
  {
   "cell_type": "markdown",
   "metadata": {},
   "source": [
    "---\n",
    "---\n",
    "# RESULTADOS:"
   ]
  },
  {
   "cell_type": "markdown",
   "metadata": {},
   "source": [
    "## Gráfico dos sites:"
   ]
  },
  {
   "cell_type": "code",
   "execution_count": 13,
   "metadata": {},
   "outputs": [
    {
     "data": {
      "image/png": "[encoded data removed]",
      "text/plain": [
       "<Figure size 720x432 with 1 Axes>"
      ]
     },
     "metadata": {
      "needs_background": "light"
     },
     "output_type": "display_data"
    }
   ],
   "source": [
    "fig = plt.figure(figsize = (10,6))\n",
    "\n",
    "zeros = [0]*len(sites)\n",
    "\n",
    "\n",
    "plt.plot(sites, zeros, c='red', label = \"LINHA NEUTRA\")\n",
    "\n",
    "plt.plot(sites, pontos_por_site, c='blue', label = \"VALORES DAS NOTÍCIAS POR SITES\")\n",
    "plt.legend(loc='upper center')\n",
    "\n",
    "plt.xlabel('SITES DE NOTÍCIAS')\n",
    "plt.ylabel('VALOR DAS NOTÍCIAS')\n",
    "plt.title('SITUAÇÃO DIÁRIA DO ETHEREUM')\n",
    "\n",
    "plt.show()"
   ]
  },
  {
   "cell_type": "markdown",
   "metadata": {},
   "source": [
    "# Valor diário de referência:"
   ]
  },
  {
   "cell_type": "markdown",
   "metadata": {},
   "source": [
    "Lembrando que um espectro de valores de referência que pode ser utilizado, levando em conta a quantidade de sites utilizados é: \n",
    "* **Entre -5 e 5**: É um dia **neutro** de acontecimentos da moeda;\n",
    "* **Maiores que 5**:  É um dia com acontecimentos que **favorecem o valor** da moeda;\n",
    "* **Menores que -5**: É um dia com acontecimentos **negativos para o valor** da moeda."
   ]
  },
  {
   "cell_type": "code",
   "execution_count": 14,
   "metadata": {},
   "outputs": [
    {
     "name": "stdout",
     "output_type": "stream",
     "text": [
      "\n",
      "\n",
      "Valor referência de notícias da moeda para o dia  2019-08-24 :    1\n",
      "As notícias apontam que não deve haver mudanças bruscas com o valor da moeda.\n"
     ]
    }
   ],
   "source": [
    "print(\"\\n\\nValor referência de notícias da moeda para o dia \", dt.date.today(),\":   \", pontuacao)\n",
    "if(pontuacao>5): \n",
    "    print(\"As notícias favorecem o valor da moeda.\")\n",
    "if(pontuacao<-5): \n",
    "    print(\"As notícias agem de forma negativa no valor da moeda.\")\n",
    "else:\n",
    "    print(\"As notícias apontam que não deve haver mudanças bruscas com o valor da moeda.\")"
   ]
  }
 ],
 "metadata": {
  "kernelspec": {
   "display_name": "Python 3",
   "language": "python",
   "name": "python3"
  },
  "language_info": {
   "codemirror_mode": {
    "name": "ipython",
    "version": 3
   },
   "file_extension": ".py",
   "mimetype": "text/x-python",
   "name": "python",
   "nbconvert_exporter": "python",
   "pygments_lexer": "ipython3",
   "version": "3.7.0"
  }
 },
 "nbformat": 4,
 "nbformat_minor": 2
}
